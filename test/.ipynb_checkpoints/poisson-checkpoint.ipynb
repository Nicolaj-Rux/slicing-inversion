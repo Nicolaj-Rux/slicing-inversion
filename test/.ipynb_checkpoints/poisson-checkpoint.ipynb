{
 "cells": [
  {
   "cell_type": "code",
   "execution_count": 1,
   "id": "d7ee13f8-d673-4383-a7b3-fdca7fb70958",
   "metadata": {},
   "outputs": [],
   "source": [
    "import sys\n",
    "import os\n",
    "\n",
    "# Add project root to sys.path\n",
    "project_root = os.path.abspath(\"..\")  # one level up\n",
    "if project_root not in sys.path:\n",
    "    sys.path.insert(0, project_root)"
   ]
  },
  {
   "cell_type": "code",
   "execution_count": 2,
   "id": "29705878-88f6-4418-a381-dfe20a2eb15c",
   "metadata": {},
   "outputs": [
    {
     "data": {
      "text/plain": [
       "<torch._C.Generator at 0x14a42eb8dab0>"
      ]
     },
     "execution_count": 2,
     "metadata": {},
     "output_type": "execute_result"
    }
   ],
   "source": [
    "import torch\n",
    "from dev.slicing import slicing\n",
    "from dev.test_functions import Gauss, Laplace, logarithmic, Riesz, thin_plate\n",
    "from dev.constants import SQRT_2, DEVICE\n",
    "from simple_torch_NFFT import Fastsum\n",
    "from tqdm import tqdm\n",
    "import matplotlib.pyplot as plt\n",
    "\n",
    "torch.manual_seed(42)"
   ]
  },
  {
   "cell_type": "code",
   "execution_count": null,
   "id": "1f2ceb7f-c978-44b7-b8aa-3e387d113ee8",
   "metadata": {},
   "outputs": [],
   "source": []
  },
  {
   "cell_type": "code",
   "execution_count": 3,
   "id": "aa5858d0-3618-4f98-9e41-199aab2a1e17",
   "metadata": {},
   "outputs": [],
   "source": [
    "\n",
    "def exact_mmd(F, scale, X, Y, Xw):\n",
    "    k_mat = F(torch.norm(X[None, :, :]-Y[:, None, :], dim=2) / scale)\n",
    "    return k_mat @ Xw\n",
    "\n",
    "\n",
    "def relative_L1_error(X, Y):\n",
    "    return torch.sum(torch.abs(X-Y)) / torch.sum(torch.abs(Y))\n",
    "\n",
    "\n",
    "def build_kernel_params(F, d, method, mode, T, L, K, J, tau):\n",
    "    def fourier_fun(x, scale):\n",
    "        x_pos = torch.abs(x)\n",
    "        S = slicing(F=lambda t: F(t/(2*scale*T)), d=d,\n",
    "                    method=method, mode=mode, T=T, L=L, K=K, J=J, tau=tau)\n",
    "        S.get_matrix()\n",
    "        S.get_range_coef()\n",
    "        S.get_domain_coef()\n",
    "        a = S.a / 2\n",
    "        a[0] *= SQRT_2\n",
    "        a = torch.cat([a, torch.tensor([0.0], device=DEVICE)])\n",
    "        f_hat = a[x_pos]\n",
    "        return f_hat\n",
    "    return dict(fourier_fun=fourier_fun)\n",
    "\n"
   ]
  },
  {
   "cell_type": "code",
   "execution_count": null,
   "id": "f7b97f83-2c0d-4d3c-ae62-6a8ce8d76138",
   "metadata": {},
   "outputs": [
    {
     "name": "stderr",
     "output_type": "stream",
     "text": [
      "  0%|                                                     | 0/5 [00:00<?, ?it/s]/homes/numerik/rux/store/miniconda3/envs/torch_gpu/lib/python3.9/site-packages/torch/_inductor/lowering.py:1713: UserWarning: Torchinductor does not support code generation for complex operators. Performance may be worse than eager.\n",
      "  warnings.warn(\n",
      " 40%|██████████████████                           | 2/5 [01:02<01:31, 30.66s/it]"
     ]
    }
   ],
   "source": [
    "d = 10\n",
    "T, L, K, J, tau = 1, 2**10, 2**8, 2**8, 1e-6\n",
    "N, M, P = 100, 100, 256\n",
    "slicing_mode = \"distance\"\n",
    "\n",
    "\n",
    "Functions = [Gauss, Laplace, logarithmic, Riesz, thin_plate]\n",
    "Function_names = [\"Gauss\", \"Laplace\", \"logarithmic\", \"energy\", \"thin_plate\"]\n",
    "reps = 10\n",
    "\n",
    "X = torch.randn((N, d, reps), device=DEVICE)\n",
    "Y = torch.randn((M, d, reps), device=DEVICE)\n",
    "Xw = torch.rand((N, reps), device=DEVICE)\n",
    "scale = torch.median(torch.norm(X, dim=1)).item()\n",
    "\n",
    "\n",
    "L1_ers = torch.zeros(len(Functions), reps, 3)\n",
    "for F_idx in tqdm(range(len(Functions))):\n",
    "    for rep in range(reps):\n",
    "        kernel_sum = exact_mmd(\n",
    "            Functions[F_idx], scale, X[:, :, rep], Y[:, :, rep], Xw[:, rep])\n",
    "\n",
    "        kernel_params = build_kernel_params(\n",
    "            Functions[F_idx], d, 1, 2, T, L, K, J, tau)\n",
    "        fastsum1 = Fastsum(d, kernel=\"other\", device=DEVICE,\n",
    "                           kernel_params=kernel_params,\n",
    "                           n_ft=2*K,\n",
    "                           slicing_mode=slicing_mode)\n",
    "        kernel_sum1 = fastsum1(X[:, :, rep], Y[:, :, rep],\n",
    "                               Xw[:, rep], scale, P)\n",
    "\n",
    "        kernel_params = build_kernel_params(\n",
    "            Functions[F_idx], d, 2, 2, T, L, K, J, tau)\n",
    "        fastsum2 = Fastsum(d, kernel=\"other\", device=DEVICE,\n",
    "                           kernel_params=kernel_params,\n",
    "                           n_ft=2*K,\n",
    "                           slicing_mode=slicing_mode)\n",
    "        kernel_sum2 = fastsum1(X[:, :, rep], Y[:, :, rep],\n",
    "                               Xw[:, rep], scale, P)\n",
    "\n",
    "        fastsum0 = Fastsum(d, kernel=Function_names[F_idx], device=DEVICE,\n",
    "                           n_ft=2*K,\n",
    "                           slicing_mode=slicing_mode)\n",
    "        kernel_sum0 = fastsum2(X[:, :, rep], Y[:, :, rep],\n",
    "                               Xw[:, rep], scale, P)\n",
    "\n",
    "        L1_ers[F_idx, rep, 0] = relative_L1_error(kernel_sum0, kernel_sum)\n",
    "        L1_ers[F_idx, rep, 1] = relative_L1_error(kernel_sum1, kernel_sum)\n",
    "        L1_ers[F_idx, rep, 2] = relative_L1_error(kernel_sum2, kernel_sum)\n",
    "\n",
    "\n",
    "# Compute means and std dev along axis=1 (the M dimension)\n",
    "means = torch.mean(L1_ers, dim=1)          # shape (N, 2)\n",
    "std_devs = torch.std(L1_ers, dim=1)        # shape (N, 2)"
   ]
  },
  {
   "cell_type": "code",
   "execution_count": null,
   "id": "e4320a36-53f9-4b78-b180-3977f038321d",
   "metadata": {},
   "outputs": [],
   "source": []
  },
  {
   "cell_type": "code",
   "execution_count": null,
   "id": "270c60e6-234d-45b0-8778-5eeae0cf03fc",
   "metadata": {},
   "outputs": [],
   "source": [
    "# x-axis indices\n",
    "x_ax = torch.arange(len(Functions))\n",
    "plt.figure(figsize=(10, 4))  # Wider figure: 10 inches wide, 4 inches tall\n",
    "# Plot both methods\n",
    "#plt.plot(x_ax, means[:, 0].cpu(), label='Method 1 Mean')\n",
    "plt.fill_between(x_ax, (means[:, 0] - std_devs[:, 0]).cpu(),\n",
    "                 (means[:, 0] + std_devs[:, 0]).cpu(), alpha=0.5, label='Poisson')\n",
    "\n",
    "#plt.plot(x_ax, means[:, 1].cpu(), label='Method 2 Mean')\n",
    "plt.fill_between(x_ax, (means[:, 1] - std_devs[:, 1]).cpu(),\n",
    "                 (means[:, 1] + std_devs[:, 1]).cpu(), alpha=0.5, label='Bessel')\n",
    "\n",
    "plt.fill_between(x_ax, (means[:, 2] - std_devs[:, 2]).cpu(),\n",
    "                 (means[:, 2] + std_devs[:, 2]).cpu(), alpha=0.5, label='Fourier')\n",
    "\n",
    "plt.yscale('log')\n",
    "plt.ylim([1e-4, 1e+0])\n",
    "plt.xticks(ticks=torch.arange(len(Functions)), labels=Function_names)\n",
    "plt.legend()\n",
    "plt.tight_layout()\n",
    "plt.savefig(f\"poisson_d={d}.pdf\")\n",
    "plt.show()"
   ]
  },
  {
   "cell_type": "code",
   "execution_count": null,
   "id": "9fa588e5-2fa8-4552-93a0-24145a217103",
   "metadata": {},
   "outputs": [],
   "source": []
  }
 ],
 "metadata": {
  "kernelspec": {
   "display_name": "Python 3 (ipykernel)",
   "language": "python",
   "name": "python3"
  },
  "language_info": {
   "codemirror_mode": {
    "name": "ipython",
    "version": 3
   },
   "file_extension": ".py",
   "mimetype": "text/x-python",
   "name": "python",
   "nbconvert_exporter": "python",
   "pygments_lexer": "ipython3",
   "version": "3.9.21"
  }
 },
 "nbformat": 4,
 "nbformat_minor": 5
}
